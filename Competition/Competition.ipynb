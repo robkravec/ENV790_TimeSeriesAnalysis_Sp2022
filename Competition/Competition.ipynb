{
 "cells": [
  {
   "cell_type": "markdown",
   "id": "459f85ac",
   "metadata": {},
   "source": [
    "Import packages"
   ]
  },
  {
   "cell_type": "code",
   "execution_count": 56,
   "id": "499970f6",
   "metadata": {},
   "outputs": [],
   "source": [
    "import numpy as np\n",
    "import pandas as pd\n",
    "import matplotlib.pyplot as plt\n",
    "import datetime\n",
    "from pandas.tseries.holiday import USFederalHolidayCalendar as calendar\n",
    "from statsmodels.graphics.tsaplots import plot_acf, plot_pacf\n",
    "from pmdarima.arima import auto_arima"
   ]
  },
  {
   "cell_type": "markdown",
   "id": "c3c8d347",
   "metadata": {},
   "source": [
    "Load dataset and examine first 5 rows"
   ]
  },
  {
   "cell_type": "code",
   "execution_count": 14,
   "id": "1264524b",
   "metadata": {},
   "outputs": [
    {
     "data": {
      "text/html": [
       "<div>\n",
       "<style scoped>\n",
       "    .dataframe tbody tr th:only-of-type {\n",
       "        vertical-align: middle;\n",
       "    }\n",
       "\n",
       "    .dataframe tbody tr th {\n",
       "        vertical-align: top;\n",
       "    }\n",
       "\n",
       "    .dataframe thead th {\n",
       "        text-align: right;\n",
       "    }\n",
       "</style>\n",
       "<table border=\"1\" class=\"dataframe\">\n",
       "  <thead>\n",
       "    <tr style=\"text-align: right;\">\n",
       "      <th></th>\n",
       "      <th>meter_id</th>\n",
       "      <th>date</th>\n",
       "      <th>h1</th>\n",
       "      <th>h2</th>\n",
       "      <th>h3</th>\n",
       "      <th>h4</th>\n",
       "      <th>h5</th>\n",
       "      <th>h6</th>\n",
       "      <th>h7</th>\n",
       "      <th>h8</th>\n",
       "      <th>...</th>\n",
       "      <th>h15</th>\n",
       "      <th>h16</th>\n",
       "      <th>h17</th>\n",
       "      <th>h18</th>\n",
       "      <th>h19</th>\n",
       "      <th>h20</th>\n",
       "      <th>h21</th>\n",
       "      <th>h22</th>\n",
       "      <th>h23</th>\n",
       "      <th>h24</th>\n",
       "    </tr>\n",
       "  </thead>\n",
       "  <tbody>\n",
       "    <tr>\n",
       "      <th>0</th>\n",
       "      <td>1</td>\n",
       "      <td>2005-01-01</td>\n",
       "      <td>3304</td>\n",
       "      <td>3178.0</td>\n",
       "      <td>2981</td>\n",
       "      <td>2944</td>\n",
       "      <td>2934</td>\n",
       "      <td>2999</td>\n",
       "      <td>3104</td>\n",
       "      <td>3296</td>\n",
       "      <td>...</td>\n",
       "      <td>2270</td>\n",
       "      <td>2233</td>\n",
       "      <td>2330</td>\n",
       "      <td>2855</td>\n",
       "      <td>3020</td>\n",
       "      <td>3097</td>\n",
       "      <td>2994</td>\n",
       "      <td>2965</td>\n",
       "      <td>2776</td>\n",
       "      <td>2590</td>\n",
       "    </tr>\n",
       "    <tr>\n",
       "      <th>1</th>\n",
       "      <td>1</td>\n",
       "      <td>2005-01-02</td>\n",
       "      <td>2485</td>\n",
       "      <td>2448.0</td>\n",
       "      <td>2487</td>\n",
       "      <td>2553</td>\n",
       "      <td>2619</td>\n",
       "      <td>2900</td>\n",
       "      <td>3133</td>\n",
       "      <td>3399</td>\n",
       "      <td>...</td>\n",
       "      <td>2220</td>\n",
       "      <td>2193</td>\n",
       "      <td>2403</td>\n",
       "      <td>3012</td>\n",
       "      <td>3291</td>\n",
       "      <td>3236</td>\n",
       "      <td>3131</td>\n",
       "      <td>3002</td>\n",
       "      <td>2805</td>\n",
       "      <td>2569</td>\n",
       "    </tr>\n",
       "    <tr>\n",
       "      <th>2</th>\n",
       "      <td>1</td>\n",
       "      <td>2005-01-03</td>\n",
       "      <td>2417</td>\n",
       "      <td>2435.0</td>\n",
       "      <td>2448</td>\n",
       "      <td>2537</td>\n",
       "      <td>2674</td>\n",
       "      <td>2900</td>\n",
       "      <td>3385</td>\n",
       "      <td>3472</td>\n",
       "      <td>...</td>\n",
       "      <td>1915</td>\n",
       "      <td>1976</td>\n",
       "      <td>2257</td>\n",
       "      <td>2929</td>\n",
       "      <td>3256</td>\n",
       "      <td>3210</td>\n",
       "      <td>3078</td>\n",
       "      <td>2881</td>\n",
       "      <td>2543</td>\n",
       "      <td>2280</td>\n",
       "    </tr>\n",
       "    <tr>\n",
       "      <th>3</th>\n",
       "      <td>1</td>\n",
       "      <td>2005-01-04</td>\n",
       "      <td>2060</td>\n",
       "      <td>2018.0</td>\n",
       "      <td>2010</td>\n",
       "      <td>2094</td>\n",
       "      <td>2115</td>\n",
       "      <td>2327</td>\n",
       "      <td>2714</td>\n",
       "      <td>2758</td>\n",
       "      <td>...</td>\n",
       "      <td>1695</td>\n",
       "      <td>1760</td>\n",
       "      <td>1931</td>\n",
       "      <td>2514</td>\n",
       "      <td>2805</td>\n",
       "      <td>2782</td>\n",
       "      <td>2608</td>\n",
       "      <td>2496</td>\n",
       "      <td>2149</td>\n",
       "      <td>1829</td>\n",
       "    </tr>\n",
       "    <tr>\n",
       "      <th>4</th>\n",
       "      <td>1</td>\n",
       "      <td>2005-01-05</td>\n",
       "      <td>1629</td>\n",
       "      <td>1546.0</td>\n",
       "      <td>1569</td>\n",
       "      <td>1566</td>\n",
       "      <td>1650</td>\n",
       "      <td>1826</td>\n",
       "      <td>2288</td>\n",
       "      <td>2411</td>\n",
       "      <td>...</td>\n",
       "      <td>1668</td>\n",
       "      <td>1779</td>\n",
       "      <td>1923</td>\n",
       "      <td>2524</td>\n",
       "      <td>2821</td>\n",
       "      <td>2829</td>\n",
       "      <td>2632</td>\n",
       "      <td>2440</td>\n",
       "      <td>2133</td>\n",
       "      <td>1921</td>\n",
       "    </tr>\n",
       "  </tbody>\n",
       "</table>\n",
       "<p>5 rows × 26 columns</p>\n",
       "</div>"
      ],
      "text/plain": [
       "   meter_id       date    h1      h2    h3    h4    h5    h6    h7    h8  ...  \\\n",
       "0         1 2005-01-01  3304  3178.0  2981  2944  2934  2999  3104  3296  ...   \n",
       "1         1 2005-01-02  2485  2448.0  2487  2553  2619  2900  3133  3399  ...   \n",
       "2         1 2005-01-03  2417  2435.0  2448  2537  2674  2900  3385  3472  ...   \n",
       "3         1 2005-01-04  2060  2018.0  2010  2094  2115  2327  2714  2758  ...   \n",
       "4         1 2005-01-05  1629  1546.0  1569  1566  1650  1826  2288  2411  ...   \n",
       "\n",
       "    h15   h16   h17   h18   h19   h20   h21   h22   h23   h24  \n",
       "0  2270  2233  2330  2855  3020  3097  2994  2965  2776  2590  \n",
       "1  2220  2193  2403  3012  3291  3236  3131  3002  2805  2569  \n",
       "2  1915  1976  2257  2929  3256  3210  3078  2881  2543  2280  \n",
       "3  1695  1760  1931  2514  2805  2782  2608  2496  2149  1829  \n",
       "4  1668  1779  1923  2524  2821  2829  2632  2440  2133  1921  \n",
       "\n",
       "[5 rows x 26 columns]"
      ]
     },
     "execution_count": 14,
     "metadata": {},
     "output_type": "execute_result"
    }
   ],
   "source": [
    "load = pd.read_excel('data/load.xlsx')\n",
    "load.head()"
   ]
  },
  {
   "cell_type": "markdown",
   "id": "2e95c908",
   "metadata": {},
   "source": [
    "Create aggregated (by day) dataframe"
   ]
  },
  {
   "cell_type": "code",
   "execution_count": 74,
   "id": "23b7443e",
   "metadata": {},
   "outputs": [
    {
     "data": {
      "text/html": [
       "<div>\n",
       "<style scoped>\n",
       "    .dataframe tbody tr th:only-of-type {\n",
       "        vertical-align: middle;\n",
       "    }\n",
       "\n",
       "    .dataframe tbody tr th {\n",
       "        vertical-align: top;\n",
       "    }\n",
       "\n",
       "    .dataframe thead th {\n",
       "        text-align: right;\n",
       "    }\n",
       "</style>\n",
       "<table border=\"1\" class=\"dataframe\">\n",
       "  <thead>\n",
       "    <tr style=\"text-align: right;\">\n",
       "      <th></th>\n",
       "      <th>Date</th>\n",
       "      <th>Avg_load</th>\n",
       "      <th>Peak_hrly_load</th>\n",
       "      <th>Min_hrly_load</th>\n",
       "    </tr>\n",
       "  </thead>\n",
       "  <tbody>\n",
       "    <tr>\n",
       "      <th>0</th>\n",
       "      <td>2005-01-01</td>\n",
       "      <td>2889.125000</td>\n",
       "      <td>3467.0</td>\n",
       "      <td>2233.0</td>\n",
       "    </tr>\n",
       "    <tr>\n",
       "      <th>1</th>\n",
       "      <td>2005-01-02</td>\n",
       "      <td>2788.958333</td>\n",
       "      <td>3574.0</td>\n",
       "      <td>2193.0</td>\n",
       "    </tr>\n",
       "    <tr>\n",
       "      <th>2</th>\n",
       "      <td>2005-01-03</td>\n",
       "      <td>2708.458333</td>\n",
       "      <td>3472.0</td>\n",
       "      <td>1915.0</td>\n",
       "    </tr>\n",
       "    <tr>\n",
       "      <th>3</th>\n",
       "      <td>2005-01-04</td>\n",
       "      <td>2211.583333</td>\n",
       "      <td>2805.0</td>\n",
       "      <td>1695.0</td>\n",
       "    </tr>\n",
       "    <tr>\n",
       "      <th>4</th>\n",
       "      <td>2005-01-05</td>\n",
       "      <td>2035.125000</td>\n",
       "      <td>2829.0</td>\n",
       "      <td>1546.0</td>\n",
       "    </tr>\n",
       "  </tbody>\n",
       "</table>\n",
       "</div>"
      ],
      "text/plain": [
       "        Date     Avg_load  Peak_hrly_load  Min_hrly_load\n",
       "0 2005-01-01  2889.125000          3467.0         2233.0\n",
       "1 2005-01-02  2788.958333          3574.0         2193.0\n",
       "2 2005-01-03  2708.458333          3472.0         1915.0\n",
       "3 2005-01-04  2211.583333          2805.0         1695.0\n",
       "4 2005-01-05  2035.125000          2829.0         1546.0"
      ]
     },
     "execution_count": 74,
     "metadata": {},
     "output_type": "execute_result"
    }
   ],
   "source": [
    "# Perform aggregations\n",
    "row_avg = load.iloc[:, 2:].apply(np.nanmean, axis = 1)\n",
    "row_min = load.iloc[:, 2:].apply(np.min, axis = 1)\n",
    "row_max = load.iloc[:, 2:].apply(np.max, axis = 1)\n",
    "\n",
    "# Make new dataframe\n",
    "load_agg = pd.DataFrame({'Date': load.date, 'Avg_load': row_avg, 'Peak_hrly_load': row_max, \\\n",
    "                        'Min_hrly_load': row_min})\n",
    "load_agg.head()"
   ]
  },
  {
   "cell_type": "markdown",
   "id": "3e0b9667",
   "metadata": {},
   "source": [
    "Add features based on date that may be helpful for forecasting"
   ]
  },
  {
   "cell_type": "code",
   "execution_count": 76,
   "id": "a125ee50",
   "metadata": {},
   "outputs": [
    {
     "data": {
      "text/html": [
       "<div>\n",
       "<style scoped>\n",
       "    .dataframe tbody tr th:only-of-type {\n",
       "        vertical-align: middle;\n",
       "    }\n",
       "\n",
       "    .dataframe tbody tr th {\n",
       "        vertical-align: top;\n",
       "    }\n",
       "\n",
       "    .dataframe thead th {\n",
       "        text-align: right;\n",
       "    }\n",
       "</style>\n",
       "<table border=\"1\" class=\"dataframe\">\n",
       "  <thead>\n",
       "    <tr style=\"text-align: right;\">\n",
       "      <th></th>\n",
       "      <th>Date</th>\n",
       "      <th>Avg_load</th>\n",
       "      <th>Peak_hrly_load</th>\n",
       "      <th>Min_hrly_load</th>\n",
       "      <th>Month</th>\n",
       "      <th>Year</th>\n",
       "      <th>DOW</th>\n",
       "      <th>Holiday</th>\n",
       "    </tr>\n",
       "  </thead>\n",
       "  <tbody>\n",
       "    <tr>\n",
       "      <th>0</th>\n",
       "      <td>2005-01-01</td>\n",
       "      <td>2889.125000</td>\n",
       "      <td>3467.0</td>\n",
       "      <td>2233.0</td>\n",
       "      <td>1</td>\n",
       "      <td>2005</td>\n",
       "      <td>5</td>\n",
       "      <td>0</td>\n",
       "    </tr>\n",
       "    <tr>\n",
       "      <th>1</th>\n",
       "      <td>2005-01-02</td>\n",
       "      <td>2788.958333</td>\n",
       "      <td>3574.0</td>\n",
       "      <td>2193.0</td>\n",
       "      <td>1</td>\n",
       "      <td>2005</td>\n",
       "      <td>6</td>\n",
       "      <td>0</td>\n",
       "    </tr>\n",
       "    <tr>\n",
       "      <th>2</th>\n",
       "      <td>2005-01-03</td>\n",
       "      <td>2708.458333</td>\n",
       "      <td>3472.0</td>\n",
       "      <td>1915.0</td>\n",
       "      <td>1</td>\n",
       "      <td>2005</td>\n",
       "      <td>0</td>\n",
       "      <td>0</td>\n",
       "    </tr>\n",
       "    <tr>\n",
       "      <th>3</th>\n",
       "      <td>2005-01-04</td>\n",
       "      <td>2211.583333</td>\n",
       "      <td>2805.0</td>\n",
       "      <td>1695.0</td>\n",
       "      <td>1</td>\n",
       "      <td>2005</td>\n",
       "      <td>1</td>\n",
       "      <td>0</td>\n",
       "    </tr>\n",
       "    <tr>\n",
       "      <th>4</th>\n",
       "      <td>2005-01-05</td>\n",
       "      <td>2035.125000</td>\n",
       "      <td>2829.0</td>\n",
       "      <td>1546.0</td>\n",
       "      <td>1</td>\n",
       "      <td>2005</td>\n",
       "      <td>2</td>\n",
       "      <td>0</td>\n",
       "    </tr>\n",
       "  </tbody>\n",
       "</table>\n",
       "</div>"
      ],
      "text/plain": [
       "        Date     Avg_load  Peak_hrly_load  Min_hrly_load  Month  Year  DOW  \\\n",
       "0 2005-01-01  2889.125000          3467.0         2233.0      1  2005    5   \n",
       "1 2005-01-02  2788.958333          3574.0         2193.0      1  2005    6   \n",
       "2 2005-01-03  2708.458333          3472.0         1915.0      1  2005    0   \n",
       "3 2005-01-04  2211.583333          2805.0         1695.0      1  2005    1   \n",
       "4 2005-01-05  2035.125000          2829.0         1546.0      1  2005    2   \n",
       "\n",
       "   Holiday  \n",
       "0        0  \n",
       "1        0  \n",
       "2        0  \n",
       "3        0  \n",
       "4        0  "
      ]
     },
     "execution_count": 76,
     "metadata": {},
     "output_type": "execute_result"
    }
   ],
   "source": [
    "# Add month and year\n",
    "load_agg['Month'] = pd.DatetimeIndex(load_agg['Date']).month\n",
    "load_agg['Year'] = pd.DatetimeIndex(load_agg['Date']).year\n",
    "\n",
    "# Add day of the week\n",
    "load_agg['DOW'] = pd.DatetimeIndex(load_agg['Date']).dayofweek\n",
    "\n",
    "# Check for federal holidays\n",
    "dr = pd.date_range(start = '2000-01-01', end = '2021-12-31')\n",
    "cal = calendar()\n",
    "holidays = cal.holidays(start = dr.min(), end = dr.max())\n",
    "load_agg['Holiday'] = load_agg['Date'].isin(holidays).astype(int)\n",
    "\n",
    "# Examine results\n",
    "load_agg.head()"
   ]
  },
  {
   "cell_type": "markdown",
   "id": "57654140",
   "metadata": {},
   "source": [
    "Make quick plots of time series, ACF, PACF"
   ]
  },
  {
   "cell_type": "code",
   "execution_count": 77,
   "id": "6658341c",
   "metadata": {},
   "outputs": [
    {
     "data": {
      "image/png": "[encoded data removed]",
      "text/plain": [
       "<Figure size 864x288 with 1 Axes>"
      ]
     },
     "metadata": {
      "needs_background": "light"
     },
     "output_type": "display_data"
    }
   ],
   "source": [
    "plt.figure(figsize=(12, 4))\n",
    "plt.plot(load_agg.Date, load_agg.Avg_load);\n",
    "plt.xlabel('Date');\n",
    "plt.ylabel('Avg hourly load');\n",
    "plt.title('Time Series Plot');"
   ]
  },
  {
   "cell_type": "code",
   "execution_count": 78,
   "id": "5784ba34",
   "metadata": {},
   "outputs": [
    {
     "data": {
      "image/png": "[encoded data removed]",
      "text/plain": [
       "<Figure size 432x288 with 1 Axes>"
      ]
     },
     "metadata": {
      "needs_background": "light"
     },
     "output_type": "display_data"
    }
   ],
   "source": [
    "plot_acf(load_agg.Avg_load, lags = 40);"
   ]
  },
  {
   "cell_type": "code",
   "execution_count": 79,
   "id": "d926b9b1",
   "metadata": {},
   "outputs": [
    {
     "data": {
      "image/png": "[encoded data removed]",
      "text/plain": [
       "<Figure size 432x288 with 1 Axes>"
      ]
     },
     "metadata": {
      "needs_background": "light"
     },
     "output_type": "display_data"
    }
   ],
   "source": [
    "plot_pacf(load_agg.Avg_load, lags = 40);"
   ]
  },
  {
   "cell_type": "markdown",
   "id": "e2b22f02",
   "metadata": {},
   "source": [
    "Let's try ARIMA without exogenous variables"
   ]
  },
  {
   "cell_type": "code",
   "execution_count": 61,
   "id": "1cf3aedf",
   "metadata": {},
   "outputs": [],
   "source": [
    "# Create time series\n",
    "ts_df = load_agg.iloc[:, :2]\n",
    "ts_df.set_index('Date', inplace = True)"
   ]
  },
  {
   "cell_type": "markdown",
   "id": "0c0ed5c4",
   "metadata": {},
   "source": [
    "Split train and test\n",
    "\n",
    "Calc some performance metric\n",
    "\n",
    "Fit on full data?\n",
    "\n",
    "Make test series\n",
    "\n",
    "Predict"
   ]
  },
  {
   "cell_type": "markdown",
   "id": "4959a2e6",
   "metadata": {},
   "source": [
    "https://towardsdatascience.com/time-series-forecasting-using-auto-arima-in-python-bb83e49210cd"
   ]
  },
  {
   "cell_type": "code",
   "execution_count": null,
   "id": "a3502f05",
   "metadata": {},
   "outputs": [],
   "source": []
  },
  {
   "cell_type": "code",
   "execution_count": null,
   "id": "cf237c7d",
   "metadata": {},
   "outputs": [],
   "source": []
  },
  {
   "cell_type": "code",
   "execution_count": null,
   "id": "af079fad",
   "metadata": {},
   "outputs": [],
   "source": []
  },
  {
   "cell_type": "code",
   "execution_count": null,
   "id": "eb87c53f",
   "metadata": {},
   "outputs": [],
   "source": []
  }
 ],
 "metadata": {
  "kernelspec": {
   "display_name": "Python 3 (ipykernel)",
   "language": "python",
   "name": "python3"
  },
  "language_info": {
   "codemirror_mode": {
    "name": "ipython",
    "version": 3
   },
   "file_extension": ".py",
   "mimetype": "text/x-python",
   "name": "python",
   "nbconvert_exporter": "python",
   "pygments_lexer": "ipython3",
   "version": "3.8.8"
  }
 },
 "nbformat": 4,
 "nbformat_minor": 5
}
